{
 "cells": [
  {
   "cell_type": "code",
   "execution_count": 42,
   "metadata": {},
   "outputs": [],
   "source": [
    "import numpy as np\n",
    "import pandas as pd\n",
    "from mpl_toolkits import mplot3d\n",
    "import matplotlib.pyplot as plt\n",
    "import time\n",
    "import math\n",
    "from fcmeans import FCM\n",
    "from sklearn.cluster import KMeans\n",
    "from sklearn.preprocessing import MinMaxScaler\n",
    "from sklearn.cluster import MiniBatchKMeans\n",
    "\n"
   ]
  },
  {
   "cell_type": "code",
   "execution_count": 43,
   "metadata": {
    "scrolled": true
   },
   "outputs": [],
   "source": [
    "# loading dataset\n",
    "data=pd.read_csv('D:\\\\Traffic_Jam_predictiion_Dataset.csv')"
   ]
  },
  {
   "cell_type": "code",
   "execution_count": 44,
   "metadata": {},
   "outputs": [
    {
     "data": {
      "text/html": [
       "<div>\n",
       "<style scoped>\n",
       "    .dataframe tbody tr th:only-of-type {\n",
       "        vertical-align: middle;\n",
       "    }\n",
       "\n",
       "    .dataframe tbody tr th {\n",
       "        vertical-align: top;\n",
       "    }\n",
       "\n",
       "    .dataframe thead th {\n",
       "        text-align: right;\n",
       "    }\n",
       "</style>\n",
       "<table border=\"1\" class=\"dataframe\">\n",
       "  <thead>\n",
       "    <tr style=\"text-align: right;\">\n",
       "      <th></th>\n",
       "      <th>Sample number</th>\n",
       "      <th>Speed(km/hr)</th>\n",
       "      <th>Fuel Consumption(ml/sec)</th>\n",
       "      <th>CO2 Emission(mg/sec)</th>\n",
       "    </tr>\n",
       "  </thead>\n",
       "  <tbody>\n",
       "    <tr>\n",
       "      <th>0</th>\n",
       "      <td>1</td>\n",
       "      <td>0.00</td>\n",
       "      <td>1.13</td>\n",
       "      <td>2624.72</td>\n",
       "    </tr>\n",
       "    <tr>\n",
       "      <th>1</th>\n",
       "      <td>2</td>\n",
       "      <td>1.70</td>\n",
       "      <td>1.37</td>\n",
       "      <td>3180.87</td>\n",
       "    </tr>\n",
       "    <tr>\n",
       "      <th>2</th>\n",
       "      <td>3</td>\n",
       "      <td>2.54</td>\n",
       "      <td>1.18</td>\n",
       "      <td>2743.50</td>\n",
       "    </tr>\n",
       "    <tr>\n",
       "      <th>3</th>\n",
       "      <td>4</td>\n",
       "      <td>3.12</td>\n",
       "      <td>1.57</td>\n",
       "      <td>3655.93</td>\n",
       "    </tr>\n",
       "    <tr>\n",
       "      <th>4</th>\n",
       "      <td>5</td>\n",
       "      <td>2.86</td>\n",
       "      <td>1.49</td>\n",
       "      <td>3460.67</td>\n",
       "    </tr>\n",
       "    <tr>\n",
       "      <th>5</th>\n",
       "      <td>6</td>\n",
       "      <td>9.30</td>\n",
       "      <td>3.60</td>\n",
       "      <td>8382.62</td>\n",
       "    </tr>\n",
       "    <tr>\n",
       "      <th>6</th>\n",
       "      <td>7</td>\n",
       "      <td>10.43</td>\n",
       "      <td>3.00</td>\n",
       "      <td>6983.71</td>\n",
       "    </tr>\n",
       "    <tr>\n",
       "      <th>7</th>\n",
       "      <td>8</td>\n",
       "      <td>11.56</td>\n",
       "      <td>3.86</td>\n",
       "      <td>8971.36</td>\n",
       "    </tr>\n",
       "    <tr>\n",
       "      <th>8</th>\n",
       "      <td>9</td>\n",
       "      <td>15.64</td>\n",
       "      <td>3.64</td>\n",
       "      <td>8475.07</td>\n",
       "    </tr>\n",
       "    <tr>\n",
       "      <th>9</th>\n",
       "      <td>10</td>\n",
       "      <td>16.48</td>\n",
       "      <td>3.87</td>\n",
       "      <td>9001.59</td>\n",
       "    </tr>\n",
       "    <tr>\n",
       "      <th>10</th>\n",
       "      <td>11</td>\n",
       "      <td>17.19</td>\n",
       "      <td>5.39</td>\n",
       "      <td>12536.11</td>\n",
       "    </tr>\n",
       "  </tbody>\n",
       "</table>\n",
       "</div>"
      ],
      "text/plain": [
       "      Sample number     Speed(km/hr)  Fuel Consumption(ml/sec)  \\\n",
       "0                 1             0.00                      1.13   \n",
       "1                 2             1.70                      1.37   \n",
       "2                 3             2.54                      1.18   \n",
       "3                 4             3.12                      1.57   \n",
       "4                 5             2.86                      1.49   \n",
       "5                 6             9.30                      3.60   \n",
       "6                 7            10.43                      3.00   \n",
       "7                 8            11.56                      3.86   \n",
       "8                 9            15.64                      3.64   \n",
       "9                10            16.48                      3.87   \n",
       "10               11            17.19                      5.39   \n",
       "\n",
       "    CO2 Emission(mg/sec)  \n",
       "0                2624.72  \n",
       "1                3180.87  \n",
       "2                2743.50  \n",
       "3                3655.93  \n",
       "4                3460.67  \n",
       "5                8382.62  \n",
       "6                6983.71  \n",
       "7                8971.36  \n",
       "8                8475.07  \n",
       "9                9001.59  \n",
       "10              12536.11  "
      ]
     },
     "execution_count": 44,
     "metadata": {},
     "output_type": "execute_result"
    }
   ],
   "source": [
    "datap=data.iloc[0:22,0:4]\n",
    "datap.head(11)"
   ]
  },
  {
   "cell_type": "code",
   "execution_count": 45,
   "metadata": {},
   "outputs": [
    {
     "data": {
      "text/plain": [
       "(22, 4)"
      ]
     },
     "execution_count": 45,
     "metadata": {},
     "output_type": "execute_result"
    }
   ],
   "source": [
    "datap.shape"
   ]
  },
  {
   "cell_type": "code",
   "execution_count": 46,
   "metadata": {},
   "outputs": [
    {
     "name": "stdout",
     "output_type": "stream",
     "text": [
      "<class 'pandas.core.frame.DataFrame'>\n",
      "RangeIndex: 22 entries, 0 to 21\n",
      "Data columns (total 4 columns):\n",
      " #   Column                    Non-Null Count  Dtype  \n",
      "---  ------                    --------------  -----  \n",
      " 0     Sample number           22 non-null     int64  \n",
      " 1      Speed(km/hr)           22 non-null     float64\n",
      " 2   Fuel Consumption(ml/sec)  22 non-null     float64\n",
      " 3   CO2 Emission(mg/sec)      22 non-null     float64\n",
      "dtypes: float64(3), int64(1)\n",
      "memory usage: 768.0 bytes\n"
     ]
    }
   ],
   "source": [
    "datap.info()"
   ]
  },
  {
   "cell_type": "code",
   "execution_count": 47,
   "metadata": {},
   "outputs": [
    {
     "data": {
      "text/html": [
       "<div>\n",
       "<style scoped>\n",
       "    .dataframe tbody tr th:only-of-type {\n",
       "        vertical-align: middle;\n",
       "    }\n",
       "\n",
       "    .dataframe tbody tr th {\n",
       "        vertical-align: top;\n",
       "    }\n",
       "\n",
       "    .dataframe thead th {\n",
       "        text-align: right;\n",
       "    }\n",
       "</style>\n",
       "<table border=\"1\" class=\"dataframe\">\n",
       "  <thead>\n",
       "    <tr style=\"text-align: right;\">\n",
       "      <th></th>\n",
       "      <th>Sample number</th>\n",
       "      <th>Speed(km/hr)</th>\n",
       "      <th>Fuel Consumption(ml/sec)</th>\n",
       "      <th>CO2 Emission(mg/sec)</th>\n",
       "    </tr>\n",
       "  </thead>\n",
       "  <tbody>\n",
       "    <tr>\n",
       "      <th>count</th>\n",
       "      <td>22.000000</td>\n",
       "      <td>22.000000</td>\n",
       "      <td>22.000000</td>\n",
       "      <td>22.000000</td>\n",
       "    </tr>\n",
       "    <tr>\n",
       "      <th>mean</th>\n",
       "      <td>11.500000</td>\n",
       "      <td>14.609545</td>\n",
       "      <td>3.758182</td>\n",
       "      <td>8742.570000</td>\n",
       "    </tr>\n",
       "    <tr>\n",
       "      <th>std</th>\n",
       "      <td>6.493587</td>\n",
       "      <td>9.593663</td>\n",
       "      <td>2.178531</td>\n",
       "      <td>5068.206855</td>\n",
       "    </tr>\n",
       "    <tr>\n",
       "      <th>min</th>\n",
       "      <td>1.000000</td>\n",
       "      <td>0.000000</td>\n",
       "      <td>1.130000</td>\n",
       "      <td>2624.720000</td>\n",
       "    </tr>\n",
       "    <tr>\n",
       "      <th>25%</th>\n",
       "      <td>6.250000</td>\n",
       "      <td>6.070000</td>\n",
       "      <td>1.987500</td>\n",
       "      <td>4630.167500</td>\n",
       "    </tr>\n",
       "    <tr>\n",
       "      <th>50%</th>\n",
       "      <td>11.500000</td>\n",
       "      <td>16.060000</td>\n",
       "      <td>3.620000</td>\n",
       "      <td>8428.845000</td>\n",
       "    </tr>\n",
       "    <tr>\n",
       "      <th>75%</th>\n",
       "      <td>16.750000</td>\n",
       "      <td>22.237500</td>\n",
       "      <td>5.157500</td>\n",
       "      <td>11994.942500</td>\n",
       "    </tr>\n",
       "    <tr>\n",
       "      <th>max</th>\n",
       "      <td>22.000000</td>\n",
       "      <td>27.640000</td>\n",
       "      <td>7.750000</td>\n",
       "      <td>18035.660000</td>\n",
       "    </tr>\n",
       "  </tbody>\n",
       "</table>\n",
       "</div>"
      ],
      "text/plain": [
       "         Sample number     Speed(km/hr)  Fuel Consumption(ml/sec)  \\\n",
       "count        22.000000        22.000000                 22.000000   \n",
       "mean         11.500000        14.609545                  3.758182   \n",
       "std           6.493587         9.593663                  2.178531   \n",
       "min           1.000000         0.000000                  1.130000   \n",
       "25%           6.250000         6.070000                  1.987500   \n",
       "50%          11.500000        16.060000                  3.620000   \n",
       "75%          16.750000        22.237500                  5.157500   \n",
       "max          22.000000        27.640000                  7.750000   \n",
       "\n",
       "       CO2 Emission(mg/sec)  \n",
       "count             22.000000  \n",
       "mean            8742.570000  \n",
       "std             5068.206855  \n",
       "min             2624.720000  \n",
       "25%             4630.167500  \n",
       "50%             8428.845000  \n",
       "75%            11994.942500  \n",
       "max            18035.660000  "
      ]
     },
     "execution_count": 47,
     "metadata": {},
     "output_type": "execute_result"
    }
   ],
   "source": [
    "datap.describe()"
   ]
  },
  {
   "cell_type": "code",
   "execution_count": 48,
   "metadata": {},
   "outputs": [
    {
     "data": {
      "text/html": [
       "<div>\n",
       "<style scoped>\n",
       "    .dataframe tbody tr th:only-of-type {\n",
       "        vertical-align: middle;\n",
       "    }\n",
       "\n",
       "    .dataframe tbody tr th {\n",
       "        vertical-align: top;\n",
       "    }\n",
       "\n",
       "    .dataframe thead th {\n",
       "        text-align: right;\n",
       "    }\n",
       "</style>\n",
       "<table border=\"1\" class=\"dataframe\">\n",
       "  <thead>\n",
       "    <tr style=\"text-align: right;\">\n",
       "      <th></th>\n",
       "      <th>Speed(km/hr)</th>\n",
       "      <th>Fuel Consumption(ml/sec)</th>\n",
       "      <th>CO2 Emission(mg/sec)</th>\n",
       "    </tr>\n",
       "  </thead>\n",
       "  <tbody>\n",
       "    <tr>\n",
       "      <th>0</th>\n",
       "      <td>0.00</td>\n",
       "      <td>1.13</td>\n",
       "      <td>2624.72</td>\n",
       "    </tr>\n",
       "    <tr>\n",
       "      <th>1</th>\n",
       "      <td>1.70</td>\n",
       "      <td>1.37</td>\n",
       "      <td>3180.87</td>\n",
       "    </tr>\n",
       "    <tr>\n",
       "      <th>2</th>\n",
       "      <td>2.54</td>\n",
       "      <td>1.18</td>\n",
       "      <td>2743.50</td>\n",
       "    </tr>\n",
       "    <tr>\n",
       "      <th>3</th>\n",
       "      <td>3.12</td>\n",
       "      <td>1.57</td>\n",
       "      <td>3655.93</td>\n",
       "    </tr>\n",
       "    <tr>\n",
       "      <th>4</th>\n",
       "      <td>2.86</td>\n",
       "      <td>1.49</td>\n",
       "      <td>3460.67</td>\n",
       "    </tr>\n",
       "    <tr>\n",
       "      <th>5</th>\n",
       "      <td>9.30</td>\n",
       "      <td>3.60</td>\n",
       "      <td>8382.62</td>\n",
       "    </tr>\n",
       "    <tr>\n",
       "      <th>6</th>\n",
       "      <td>10.43</td>\n",
       "      <td>3.00</td>\n",
       "      <td>6983.71</td>\n",
       "    </tr>\n",
       "    <tr>\n",
       "      <th>7</th>\n",
       "      <td>11.56</td>\n",
       "      <td>3.86</td>\n",
       "      <td>8971.36</td>\n",
       "    </tr>\n",
       "    <tr>\n",
       "      <th>8</th>\n",
       "      <td>15.64</td>\n",
       "      <td>3.64</td>\n",
       "      <td>8475.07</td>\n",
       "    </tr>\n",
       "    <tr>\n",
       "      <th>9</th>\n",
       "      <td>16.48</td>\n",
       "      <td>3.87</td>\n",
       "      <td>9001.59</td>\n",
       "    </tr>\n",
       "    <tr>\n",
       "      <th>10</th>\n",
       "      <td>17.19</td>\n",
       "      <td>5.39</td>\n",
       "      <td>12536.11</td>\n",
       "    </tr>\n",
       "  </tbody>\n",
       "</table>\n",
       "</div>"
      ],
      "text/plain": [
       "       Speed(km/hr)  Fuel Consumption(ml/sec)  CO2 Emission(mg/sec)\n",
       "0              0.00                      1.13               2624.72\n",
       "1              1.70                      1.37               3180.87\n",
       "2              2.54                      1.18               2743.50\n",
       "3              3.12                      1.57               3655.93\n",
       "4              2.86                      1.49               3460.67\n",
       "5              9.30                      3.60               8382.62\n",
       "6             10.43                      3.00               6983.71\n",
       "7             11.56                      3.86               8971.36\n",
       "8             15.64                      3.64               8475.07\n",
       "9             16.48                      3.87               9001.59\n",
       "10            17.19                      5.39              12536.11"
      ]
     },
     "execution_count": 48,
     "metadata": {},
     "output_type": "execute_result"
    }
   ],
   "source": [
    "df=datap.iloc[:,1:4]\n",
    "df.head(11)"
   ]
  },
  {
   "cell_type": "code",
   "execution_count": 49,
   "metadata": {},
   "outputs": [
    {
     "data": {
      "text/plain": [
       "Text(0.5, 0, 'z axis')"
      ]
     },
     "execution_count": 49,
     "metadata": {},
     "output_type": "execute_result"
    },
    {
     "data": {
      "image/png": "[encoded data removed]",
      "text/plain": [
       "<Figure size 432x288 with 1 Axes>"
      ]
     },
     "metadata": {
      "needs_background": "light"
     },
     "output_type": "display_data"
    }
   ],
   "source": [
    "fig = plt.figure()\n",
    "ax =plt.axes(projection='3d')\n",
    "ax.scatter3D(df.iloc[:,0],df.iloc[:,1],df.iloc[:,2],c='gray');\n",
    "ax.set_xlabel(\"x axis\")\n",
    "ax.set_ylabel(\"y axis\")\n",
    "ax.set_zlabel(\"z axis\")\n"
   ]
  },
  {
   "cell_type": "code",
   "execution_count": 50,
   "metadata": {},
   "outputs": [
    {
     "data": {
      "text/html": [
       "<div>\n",
       "<style scoped>\n",
       "    .dataframe tbody tr th:only-of-type {\n",
       "        vertical-align: middle;\n",
       "    }\n",
       "\n",
       "    .dataframe tbody tr th {\n",
       "        vertical-align: top;\n",
       "    }\n",
       "\n",
       "    .dataframe thead th {\n",
       "        text-align: right;\n",
       "    }\n",
       "</style>\n",
       "<table border=\"1\" class=\"dataframe\">\n",
       "  <thead>\n",
       "    <tr style=\"text-align: right;\">\n",
       "      <th></th>\n",
       "      <th>Speed(km/hr)</th>\n",
       "      <th>Fuel Consumption(ml/sec)</th>\n",
       "      <th>CO2 Emission(mg/sec)</th>\n",
       "    </tr>\n",
       "  </thead>\n",
       "  <tbody>\n",
       "    <tr>\n",
       "      <th>0</th>\n",
       "      <td>0.000000</td>\n",
       "      <td>0.000000</td>\n",
       "      <td>0.000000</td>\n",
       "    </tr>\n",
       "    <tr>\n",
       "      <th>1</th>\n",
       "      <td>0.061505</td>\n",
       "      <td>0.036254</td>\n",
       "      <td>0.036088</td>\n",
       "    </tr>\n",
       "    <tr>\n",
       "      <th>2</th>\n",
       "      <td>0.091896</td>\n",
       "      <td>0.007553</td>\n",
       "      <td>0.007708</td>\n",
       "    </tr>\n",
       "    <tr>\n",
       "      <th>3</th>\n",
       "      <td>0.112880</td>\n",
       "      <td>0.066465</td>\n",
       "      <td>0.066914</td>\n",
       "    </tr>\n",
       "    <tr>\n",
       "      <th>4</th>\n",
       "      <td>0.103473</td>\n",
       "      <td>0.054381</td>\n",
       "      <td>0.054244</td>\n",
       "    </tr>\n",
       "    <tr>\n",
       "      <th>5</th>\n",
       "      <td>0.336469</td>\n",
       "      <td>0.373112</td>\n",
       "      <td>0.373624</td>\n",
       "    </tr>\n",
       "    <tr>\n",
       "      <th>6</th>\n",
       "      <td>0.377352</td>\n",
       "      <td>0.282477</td>\n",
       "      <td>0.282850</td>\n",
       "    </tr>\n",
       "    <tr>\n",
       "      <th>7</th>\n",
       "      <td>0.418234</td>\n",
       "      <td>0.412387</td>\n",
       "      <td>0.411827</td>\n",
       "    </tr>\n",
       "    <tr>\n",
       "      <th>8</th>\n",
       "      <td>0.565847</td>\n",
       "      <td>0.379154</td>\n",
       "      <td>0.379623</td>\n",
       "    </tr>\n",
       "    <tr>\n",
       "      <th>9</th>\n",
       "      <td>0.596237</td>\n",
       "      <td>0.413897</td>\n",
       "      <td>0.413789</td>\n",
       "    </tr>\n",
       "    <tr>\n",
       "      <th>10</th>\n",
       "      <td>0.621925</td>\n",
       "      <td>0.643505</td>\n",
       "      <td>0.643140</td>\n",
       "    </tr>\n",
       "  </tbody>\n",
       "</table>\n",
       "</div>"
      ],
      "text/plain": [
       "       Speed(km/hr)  Fuel Consumption(ml/sec)  CO2 Emission(mg/sec)\n",
       "0          0.000000                  0.000000              0.000000\n",
       "1          0.061505                  0.036254              0.036088\n",
       "2          0.091896                  0.007553              0.007708\n",
       "3          0.112880                  0.066465              0.066914\n",
       "4          0.103473                  0.054381              0.054244\n",
       "5          0.336469                  0.373112              0.373624\n",
       "6          0.377352                  0.282477              0.282850\n",
       "7          0.418234                  0.412387              0.411827\n",
       "8          0.565847                  0.379154              0.379623\n",
       "9          0.596237                  0.413897              0.413789\n",
       "10         0.621925                  0.643505              0.643140"
      ]
     },
     "execution_count": 50,
     "metadata": {},
     "output_type": "execute_result"
    }
   ],
   "source": [
    "# To Transform features by scaling each feature to a given range.\n",
    "scalar=MinMaxScaler()\n",
    "scalar.fit(df[['Fuel Consumption(ml/sec)']])\n",
    "df['Fuel Consumption(ml/sec)']=scalar.transform(df[['Fuel Consumption(ml/sec)']])\n",
    "\n",
    "scalar.fit(df[['CO2 Emission(mg/sec)']])\n",
    "df['CO2 Emission(mg/sec)']=scalar.transform(df[['CO2 Emission(mg/sec)']])\n",
    "\n",
    "scalar.fit(df.iloc[:,0:1])\n",
    "df.iloc[:,0:1]=scalar.transform(df.iloc[:,0:1])\n",
    "\n",
    "df.head(11)"
   ]
  },
  {
   "cell_type": "code",
   "execution_count": 51,
   "metadata": {},
   "outputs": [
    {
     "data": {
      "text/plain": [
       "Text(0.5, 0, 'z axis')"
      ]
     },
     "execution_count": 51,
     "metadata": {},
     "output_type": "execute_result"
    },
    {
     "data": {
      "image/png": "[encoded data removed]",
      "text/plain": [
       "<Figure size 432x288 with 1 Axes>"
      ]
     },
     "metadata": {
      "needs_background": "light"
     },
     "output_type": "display_data"
    }
   ],
   "source": [
    "ax =plt.axes(projection='3d')\n",
    "ax.scatter3D(df.iloc[:,0],df.iloc[:,1],df.iloc[:,2],c='gray');\n",
    "ax.set_xlabel(\"x axis\")\n",
    "ax.set_ylabel(\"y axis\")\n",
    "ax.set_zlabel(\"z axis\")\n"
   ]
  },
  {
   "cell_type": "code",
   "execution_count": 52,
   "metadata": {},
   "outputs": [
    {
     "name": "stdout",
     "output_type": "stream",
     "text": [
      "[7.075437085521325, 2.8801571678755153, 1.1877830288112392, 0.5784789253991685, 0.3540138481698066, 0.2760008587076716, 0.2005494962821272, 0.1401945267739833, 0.09340121927862217]\n"
     ]
    },
    {
     "data": {
      "text/plain": [
       "[<matplotlib.lines.Line2D at 0x11f0bf8>]"
      ]
     },
     "execution_count": 52,
     "metadata": {},
     "output_type": "execute_result"
    },
    {
     "data": {
      "image/png": "[encoded data removed]",
      "text/plain": [
       "<Figure size 432x288 with 1 Axes>"
      ]
     },
     "metadata": {
      "needs_background": "light"
     },
     "output_type": "display_data"
    }
   ],
   "source": [
    "# Elbow method to find ideal no of clusters in dataset\n",
    "k_rng=range(1,10)\n",
    "sse=[]\n",
    "for k in k_rng:\n",
    "    km=KMeans(n_clusters=k)\n",
    "    km.fit(df)\n",
    "    sse.append(km.inertia_)\n",
    "print(sse)\n",
    "\n",
    "plt.title('The Elobw Method Graph')  \n",
    "plt.ylabel('Sum of squared error')\n",
    "plt.xlabel('Number of clusters(k)')  \n",
    "plt.plot(k_rng,sse)"
   ]
  },
  {
   "cell_type": "code",
   "execution_count": 53,
   "metadata": {},
   "outputs": [],
   "source": [
    "#From the above graph we can onclude that number of clusters is 3."
   ]
  },
  {
   "cell_type": "code",
   "execution_count": 54,
   "metadata": {},
   "outputs": [
    {
     "data": {
      "text/plain": [
       "KMeans(n_clusters=3)"
      ]
     },
     "execution_count": 54,
     "metadata": {},
     "output_type": "execute_result"
    }
   ],
   "source": [
    "\n",
    "# K-means algorithm\n",
    "\n",
    "km=KMeans(n_clusters=3)\n",
    "km"
   ]
  },
  {
   "cell_type": "code",
   "execution_count": 55,
   "metadata": {},
   "outputs": [
    {
     "data": {
      "text/plain": [
       "array([2, 2, 2, 2, 2, 0, 0, 0, 0, 0, 0, 0, 1, 1, 1, 0, 1, 1, 0, 2, 2, 0])"
      ]
     },
     "execution_count": 55,
     "metadata": {},
     "output_type": "execute_result"
    }
   ],
   "source": [
    "dff=df\n",
    "y_predict=km.fit_predict(dff)\n",
    "y_predict"
   ]
  },
  {
   "cell_type": "code",
   "execution_count": 56,
   "metadata": {},
   "outputs": [
    {
     "data": {
      "text/html": [
       "<div>\n",
       "<style scoped>\n",
       "    .dataframe tbody tr th:only-of-type {\n",
       "        vertical-align: middle;\n",
       "    }\n",
       "\n",
       "    .dataframe tbody tr th {\n",
       "        vertical-align: top;\n",
       "    }\n",
       "\n",
       "    .dataframe thead th {\n",
       "        text-align: right;\n",
       "    }\n",
       "</style>\n",
       "<table border=\"1\" class=\"dataframe\">\n",
       "  <thead>\n",
       "    <tr style=\"text-align: right;\">\n",
       "      <th></th>\n",
       "      <th>Speed(km/hr)</th>\n",
       "      <th>Fuel Consumption(ml/sec)</th>\n",
       "      <th>CO2 Emission(mg/sec)</th>\n",
       "      <th>cluster</th>\n",
       "    </tr>\n",
       "  </thead>\n",
       "  <tbody>\n",
       "    <tr>\n",
       "      <th>0</th>\n",
       "      <td>0.000000</td>\n",
       "      <td>0.000000</td>\n",
       "      <td>0.000000</td>\n",
       "      <td>2</td>\n",
       "    </tr>\n",
       "    <tr>\n",
       "      <th>1</th>\n",
       "      <td>0.061505</td>\n",
       "      <td>0.036254</td>\n",
       "      <td>0.036088</td>\n",
       "      <td>2</td>\n",
       "    </tr>\n",
       "    <tr>\n",
       "      <th>2</th>\n",
       "      <td>0.091896</td>\n",
       "      <td>0.007553</td>\n",
       "      <td>0.007708</td>\n",
       "      <td>2</td>\n",
       "    </tr>\n",
       "    <tr>\n",
       "      <th>3</th>\n",
       "      <td>0.112880</td>\n",
       "      <td>0.066465</td>\n",
       "      <td>0.066914</td>\n",
       "      <td>2</td>\n",
       "    </tr>\n",
       "    <tr>\n",
       "      <th>4</th>\n",
       "      <td>0.103473</td>\n",
       "      <td>0.054381</td>\n",
       "      <td>0.054244</td>\n",
       "      <td>2</td>\n",
       "    </tr>\n",
       "    <tr>\n",
       "      <th>5</th>\n",
       "      <td>0.336469</td>\n",
       "      <td>0.373112</td>\n",
       "      <td>0.373624</td>\n",
       "      <td>0</td>\n",
       "    </tr>\n",
       "    <tr>\n",
       "      <th>6</th>\n",
       "      <td>0.377352</td>\n",
       "      <td>0.282477</td>\n",
       "      <td>0.282850</td>\n",
       "      <td>0</td>\n",
       "    </tr>\n",
       "    <tr>\n",
       "      <th>7</th>\n",
       "      <td>0.418234</td>\n",
       "      <td>0.412387</td>\n",
       "      <td>0.411827</td>\n",
       "      <td>0</td>\n",
       "    </tr>\n",
       "    <tr>\n",
       "      <th>8</th>\n",
       "      <td>0.565847</td>\n",
       "      <td>0.379154</td>\n",
       "      <td>0.379623</td>\n",
       "      <td>0</td>\n",
       "    </tr>\n",
       "    <tr>\n",
       "      <th>9</th>\n",
       "      <td>0.596237</td>\n",
       "      <td>0.413897</td>\n",
       "      <td>0.413789</td>\n",
       "      <td>0</td>\n",
       "    </tr>\n",
       "    <tr>\n",
       "      <th>10</th>\n",
       "      <td>0.621925</td>\n",
       "      <td>0.643505</td>\n",
       "      <td>0.643140</td>\n",
       "      <td>0</td>\n",
       "    </tr>\n",
       "  </tbody>\n",
       "</table>\n",
       "</div>"
      ],
      "text/plain": [
       "       Speed(km/hr)  Fuel Consumption(ml/sec)  CO2 Emission(mg/sec)  cluster\n",
       "0          0.000000                  0.000000              0.000000        2\n",
       "1          0.061505                  0.036254              0.036088        2\n",
       "2          0.091896                  0.007553              0.007708        2\n",
       "3          0.112880                  0.066465              0.066914        2\n",
       "4          0.103473                  0.054381              0.054244        2\n",
       "5          0.336469                  0.373112              0.373624        0\n",
       "6          0.377352                  0.282477              0.282850        0\n",
       "7          0.418234                  0.412387              0.411827        0\n",
       "8          0.565847                  0.379154              0.379623        0\n",
       "9          0.596237                  0.413897              0.413789        0\n",
       "10         0.621925                  0.643505              0.643140        0"
      ]
     },
     "execution_count": 56,
     "metadata": {},
     "output_type": "execute_result"
    }
   ],
   "source": [
    "dff['cluster']=y_predict\n",
    "dff.head(11)"
   ]
  },
  {
   "cell_type": "code",
   "execution_count": 57,
   "metadata": {},
   "outputs": [
    {
     "data": {
      "text/plain": [
       "array([[0.65137482, 0.37854985, 0.37857528],\n",
       "       [0.85781476, 0.89546828, 0.89502704],\n",
       "       [0.11794501, 0.06732844, 0.06752763]])"
      ]
     },
     "execution_count": 57,
     "metadata": {},
     "output_type": "execute_result"
    }
   ],
   "source": [
    "km.cluster_centers_"
   ]
  },
  {
   "cell_type": "code",
   "execution_count": 58,
   "metadata": {},
   "outputs": [
    {
     "data": {
      "image/png": "[encoded data removed]",
      "text/plain": [
       "<Figure size 432x288 with 1 Axes>"
      ]
     },
     "metadata": {
      "needs_background": "light"
     },
     "output_type": "display_data"
    }
   ],
   "source": [
    "df1=dff[dff.cluster==0]\n",
    "df2=dff[dff.cluster==1]\n",
    "df3=dff[dff.cluster==2]\n",
    "\n",
    "ax1 =plt.axes(projection='3d')\n",
    "ax1.scatter3D(df1.iloc[:,0],df1.iloc[:,1],df1.iloc[:,2],c='green')\n",
    "ax1.scatter3D(df2.iloc[:,0],df2.iloc[:,1],df2.iloc[:,2],c='purple')\n",
    "ax1.scatter3D(df3.iloc[:,0],df3.iloc[:,1],df3.iloc[:,2],c='black')\n",
    "ax1.scatter3D(km.cluster_centers_[:,0],km.cluster_centers_[:,1],km.cluster_centers_[:,2],c='red',label='centroid',marker=\"*\")\n",
    "ax1.set_xlabel(\"x axis\")\n",
    "ax1.set_ylabel(\"y axis\")\n",
    "ax1.set_zlabel(\"z axis\")\n",
    "\n",
    "\n",
    "plt.show()"
   ]
  },
  {
   "cell_type": "code",
   "execution_count": 59,
   "metadata": {},
   "outputs": [
    {
     "data": {
      "text/plain": [
       "[0.010911512374877929,\n",
       " 0.014122223854064942,\n",
       " 0.015303931236267089,\n",
       " 0.017359247207641603]"
      ]
     },
     "execution_count": 59,
     "metadata": {},
     "output_type": "execute_result"
    }
   ],
   "source": [
    "# average computing time of K-means algorithm for cluster 2,3,4,5 for 50 iterations\n",
    "\n",
    "data1=df.drop(columns=['cluster'])\n",
    "avg=[]\n",
    "for pos in range(2,6):\n",
    "    start_time = time.time()\n",
    "    for i in range(0,50):\n",
    "        kmn = KMeans(n_clusters=pos)\n",
    "        kmn.fit(data1)\n",
    "        kmn.predict(data1)\n",
    "    end_time = time.time()\n",
    "    avg.append((end_time-start_time)/50)\n",
    "avg"
   ]
  },
  {
   "cell_type": "code",
   "execution_count": 60,
   "metadata": {},
   "outputs": [
    {
     "name": "stdout",
     "output_type": "stream",
     "text": [
      "0.28002372818438637\n",
      "0.2799040036445224\n"
     ]
    },
    {
     "data": {
      "image/png": "[encoded data removed]",
      "text/plain": [
       "<Figure size 432x288 with 1 Axes>"
      ]
     },
     "metadata": {
      "needs_background": "light"
     },
     "output_type": "display_data"
    },
    {
     "name": "stdout",
     "output_type": "stream",
     "text": [
      "0.28002372818438637\n",
      "0.00048478374299643637\n"
     ]
    },
    {
     "data": {
      "image/png": "[encoded data removed]",
      "text/plain": [
       "<Figure size 432x288 with 1 Axes>"
      ]
     },
     "metadata": {
      "needs_background": "light"
     },
     "output_type": "display_data"
    },
    {
     "name": "stdout",
     "output_type": "stream",
     "text": [
      "0.2799040036445224\n",
      "0.00048478374299643637\n"
     ]
    },
    {
     "data": {
      "image/png": "[encoded data removed]",
      "text/plain": [
       "<Figure size 432x288 with 1 Axes>"
      ]
     },
     "metadata": {
      "needs_background": "light"
     },
     "output_type": "display_data"
    }
   ],
   "source": [
    "kme=km.cluster_centers_\n",
    "\n",
    "# distance of cluster 1 from cluster 2 \n",
    "ed1=math.sqrt((kme[0,0]-kme[0,1])**2+(kme[1,0]-kme[1,1])**2+(kme[2,0]-kme[2,1])**2)\n",
    "print(ed1)\n",
    "\n",
    "# distance of cluster 1 from cluster 3 \n",
    "ed2=math.sqrt(((kme[0,0]-kme[0,2])**2)+((kme[1,0]-kme[1,2])**2)+((kme[2,0]-kme[2,2])**2))\n",
    "print(ed2)\n",
    "\n",
    "\n",
    "fig = plt.figure()\n",
    "ax = fig.add_axes([0,0,1,1])\n",
    "cluster1 = ['1', '2', '3']\n",
    "dist1 = [0,ed1,ed2]\n",
    "ax.bar(cluster1,dist1)\n",
    "ax.set_xlabel(\"Distance of cluster 1,2,3 from cluster 1\")\n",
    "plt.show()\n",
    "\n",
    "# distance of cluster 2 from cluster 1 \n",
    "ed3=math.sqrt(((kme[0,1]-kme[0,0])**2)+((kme[1,1]-kme[1,0])**2)+((kme[2,1]-kme[2,0])**2))\n",
    "print(ed3)\n",
    "\n",
    "# distance of cluster 2 from cluster 3 \n",
    "ed4=math.sqrt(((kme[0,1]-kme[0,2])**2)+((kme[1,1]-kme[1,2])**2)+((kme[2,1]-kme[2,2])**2))\n",
    "print(ed4)\n",
    "\n",
    "fig = plt.figure()\n",
    "ax = fig.add_axes([0,0,1,1])\n",
    "cluster2 = ['1', '2', '3']\n",
    "dist2 = [ed3,0,ed4]\n",
    "ax.bar(cluster2,dist2)\n",
    "ax.set_xlabel(\"Distance of cluster 1,2,3 from cluster 2\")\n",
    "plt.show()\n",
    "\n",
    "\n",
    "# distance of cluster 3 from cluster 1 \n",
    "ed5=math.sqrt(((kme[0,2]-kme[0,0])**2)+((kme[1,2]-kme[1,0])**2)+((kme[2,2]-kme[2,0])**2))\n",
    "print(ed5)\n",
    "\n",
    "# distance of cluster 3 from cluster 2\n",
    "ed6=math.sqrt(((kme[0,2]-kme[0,1])**2)+((kme[1,2]-kme[1,1])**2)+((kme[2,2]-kme[2,1])**2))\n",
    "print(ed6)\n",
    "\n",
    "\n",
    "fig = plt.figure()\n",
    "ax = fig.add_axes([0,0,1,1])\n",
    "cluster3 = ['1', '2', '3']\n",
    "dist3 = [ed5,ed6,0]\n",
    "ax.bar(cluster3,dist3)\n",
    "ax.set_xlabel(\"Distance of cluster 1,2,3 from cluster 3\")\n",
    "plt.show()"
   ]
  },
  {
   "cell_type": "code",
   "execution_count": 61,
   "metadata": {},
   "outputs": [
    {
     "data": {
      "text/html": [
       "<div>\n",
       "<style scoped>\n",
       "    .dataframe tbody tr th:only-of-type {\n",
       "        vertical-align: middle;\n",
       "    }\n",
       "\n",
       "    .dataframe tbody tr th {\n",
       "        vertical-align: top;\n",
       "    }\n",
       "\n",
       "    .dataframe thead th {\n",
       "        text-align: right;\n",
       "    }\n",
       "</style>\n",
       "<table border=\"1\" class=\"dataframe\">\n",
       "  <thead>\n",
       "    <tr style=\"text-align: right;\">\n",
       "      <th></th>\n",
       "      <th>Speed(km/hr)</th>\n",
       "      <th>Fuel Consumption(ml/sec)</th>\n",
       "      <th>CO2 Emission(mg/sec)</th>\n",
       "    </tr>\n",
       "  </thead>\n",
       "  <tbody>\n",
       "    <tr>\n",
       "      <th>0</th>\n",
       "      <td>0.000000</td>\n",
       "      <td>0.000000</td>\n",
       "      <td>0.000000</td>\n",
       "    </tr>\n",
       "    <tr>\n",
       "      <th>1</th>\n",
       "      <td>0.061505</td>\n",
       "      <td>0.036254</td>\n",
       "      <td>0.036088</td>\n",
       "    </tr>\n",
       "    <tr>\n",
       "      <th>2</th>\n",
       "      <td>0.091896</td>\n",
       "      <td>0.007553</td>\n",
       "      <td>0.007708</td>\n",
       "    </tr>\n",
       "    <tr>\n",
       "      <th>3</th>\n",
       "      <td>0.112880</td>\n",
       "      <td>0.066465</td>\n",
       "      <td>0.066914</td>\n",
       "    </tr>\n",
       "    <tr>\n",
       "      <th>4</th>\n",
       "      <td>0.103473</td>\n",
       "      <td>0.054381</td>\n",
       "      <td>0.054244</td>\n",
       "    </tr>\n",
       "    <tr>\n",
       "      <th>5</th>\n",
       "      <td>0.336469</td>\n",
       "      <td>0.373112</td>\n",
       "      <td>0.373624</td>\n",
       "    </tr>\n",
       "    <tr>\n",
       "      <th>6</th>\n",
       "      <td>0.377352</td>\n",
       "      <td>0.282477</td>\n",
       "      <td>0.282850</td>\n",
       "    </tr>\n",
       "    <tr>\n",
       "      <th>7</th>\n",
       "      <td>0.418234</td>\n",
       "      <td>0.412387</td>\n",
       "      <td>0.411827</td>\n",
       "    </tr>\n",
       "    <tr>\n",
       "      <th>8</th>\n",
       "      <td>0.565847</td>\n",
       "      <td>0.379154</td>\n",
       "      <td>0.379623</td>\n",
       "    </tr>\n",
       "    <tr>\n",
       "      <th>9</th>\n",
       "      <td>0.596237</td>\n",
       "      <td>0.413897</td>\n",
       "      <td>0.413789</td>\n",
       "    </tr>\n",
       "    <tr>\n",
       "      <th>10</th>\n",
       "      <td>0.621925</td>\n",
       "      <td>0.643505</td>\n",
       "      <td>0.643140</td>\n",
       "    </tr>\n",
       "  </tbody>\n",
       "</table>\n",
       "</div>"
      ],
      "text/plain": [
       "       Speed(km/hr)  Fuel Consumption(ml/sec)  CO2 Emission(mg/sec)\n",
       "0          0.000000                  0.000000              0.000000\n",
       "1          0.061505                  0.036254              0.036088\n",
       "2          0.091896                  0.007553              0.007708\n",
       "3          0.112880                  0.066465              0.066914\n",
       "4          0.103473                  0.054381              0.054244\n",
       "5          0.336469                  0.373112              0.373624\n",
       "6          0.377352                  0.282477              0.282850\n",
       "7          0.418234                  0.412387              0.411827\n",
       "8          0.565847                  0.379154              0.379623\n",
       "9          0.596237                  0.413897              0.413789\n",
       "10         0.621925                  0.643505              0.643140"
      ]
     },
     "execution_count": 61,
     "metadata": {},
     "output_type": "execute_result"
    }
   ],
   "source": [
    "# Fuzzy C-Means Clustering\n",
    "\n",
    "dff1=df.drop(columns=['cluster'])\n",
    "dff1.head(11)"
   ]
  },
  {
   "cell_type": "code",
   "execution_count": 62,
   "metadata": {},
   "outputs": [],
   "source": [
    "fcm=FCM(n_clusters=3)\n",
    "fcm.fit(dff1)"
   ]
  },
  {
   "cell_type": "code",
   "execution_count": 63,
   "metadata": {},
   "outputs": [
    {
     "data": {
      "text/plain": [
       "array([0, 0, 0, 0, 0, 1, 1, 1, 1, 1, 1, 1, 2, 2, 2, 1, 2, 2, 1, 0, 0, 1],\n",
       "      dtype=int32)"
      ]
     },
     "execution_count": 63,
     "metadata": {},
     "output_type": "execute_result"
    }
   ],
   "source": [
    "y1_predict = fcm.predict(dff1)\n",
    "y1_predict"
   ]
  },
  {
   "cell_type": "code",
   "execution_count": 64,
   "metadata": {},
   "outputs": [
    {
     "data": {
      "text/html": [
       "<div>\n",
       "<style scoped>\n",
       "    .dataframe tbody tr th:only-of-type {\n",
       "        vertical-align: middle;\n",
       "    }\n",
       "\n",
       "    .dataframe tbody tr th {\n",
       "        vertical-align: top;\n",
       "    }\n",
       "\n",
       "    .dataframe thead th {\n",
       "        text-align: right;\n",
       "    }\n",
       "</style>\n",
       "<table border=\"1\" class=\"dataframe\">\n",
       "  <thead>\n",
       "    <tr style=\"text-align: right;\">\n",
       "      <th></th>\n",
       "      <th>Speed(km/hr)</th>\n",
       "      <th>Fuel Consumption(ml/sec)</th>\n",
       "      <th>CO2 Emission(mg/sec)</th>\n",
       "      <th>cluster</th>\n",
       "    </tr>\n",
       "  </thead>\n",
       "  <tbody>\n",
       "    <tr>\n",
       "      <th>0</th>\n",
       "      <td>0.000000</td>\n",
       "      <td>0.000000</td>\n",
       "      <td>0.000000</td>\n",
       "      <td>0</td>\n",
       "    </tr>\n",
       "    <tr>\n",
       "      <th>1</th>\n",
       "      <td>0.061505</td>\n",
       "      <td>0.036254</td>\n",
       "      <td>0.036088</td>\n",
       "      <td>0</td>\n",
       "    </tr>\n",
       "    <tr>\n",
       "      <th>2</th>\n",
       "      <td>0.091896</td>\n",
       "      <td>0.007553</td>\n",
       "      <td>0.007708</td>\n",
       "      <td>0</td>\n",
       "    </tr>\n",
       "    <tr>\n",
       "      <th>3</th>\n",
       "      <td>0.112880</td>\n",
       "      <td>0.066465</td>\n",
       "      <td>0.066914</td>\n",
       "      <td>0</td>\n",
       "    </tr>\n",
       "    <tr>\n",
       "      <th>4</th>\n",
       "      <td>0.103473</td>\n",
       "      <td>0.054381</td>\n",
       "      <td>0.054244</td>\n",
       "      <td>0</td>\n",
       "    </tr>\n",
       "    <tr>\n",
       "      <th>5</th>\n",
       "      <td>0.336469</td>\n",
       "      <td>0.373112</td>\n",
       "      <td>0.373624</td>\n",
       "      <td>1</td>\n",
       "    </tr>\n",
       "    <tr>\n",
       "      <th>6</th>\n",
       "      <td>0.377352</td>\n",
       "      <td>0.282477</td>\n",
       "      <td>0.282850</td>\n",
       "      <td>1</td>\n",
       "    </tr>\n",
       "    <tr>\n",
       "      <th>7</th>\n",
       "      <td>0.418234</td>\n",
       "      <td>0.412387</td>\n",
       "      <td>0.411827</td>\n",
       "      <td>1</td>\n",
       "    </tr>\n",
       "    <tr>\n",
       "      <th>8</th>\n",
       "      <td>0.565847</td>\n",
       "      <td>0.379154</td>\n",
       "      <td>0.379623</td>\n",
       "      <td>1</td>\n",
       "    </tr>\n",
       "    <tr>\n",
       "      <th>9</th>\n",
       "      <td>0.596237</td>\n",
       "      <td>0.413897</td>\n",
       "      <td>0.413789</td>\n",
       "      <td>1</td>\n",
       "    </tr>\n",
       "    <tr>\n",
       "      <th>10</th>\n",
       "      <td>0.621925</td>\n",
       "      <td>0.643505</td>\n",
       "      <td>0.643140</td>\n",
       "      <td>1</td>\n",
       "    </tr>\n",
       "  </tbody>\n",
       "</table>\n",
       "</div>"
      ],
      "text/plain": [
       "       Speed(km/hr)  Fuel Consumption(ml/sec)  CO2 Emission(mg/sec)  cluster\n",
       "0          0.000000                  0.000000              0.000000        0\n",
       "1          0.061505                  0.036254              0.036088        0\n",
       "2          0.091896                  0.007553              0.007708        0\n",
       "3          0.112880                  0.066465              0.066914        0\n",
       "4          0.103473                  0.054381              0.054244        0\n",
       "5          0.336469                  0.373112              0.373624        1\n",
       "6          0.377352                  0.282477              0.282850        1\n",
       "7          0.418234                  0.412387              0.411827        1\n",
       "8          0.565847                  0.379154              0.379623        1\n",
       "9          0.596237                  0.413897              0.413789        1\n",
       "10         0.621925                  0.643505              0.643140        1"
      ]
     },
     "execution_count": 64,
     "metadata": {},
     "output_type": "execute_result"
    }
   ],
   "source": [
    "dff1['cluster']=y1_predict\n",
    "dff1.head(11)"
   ]
  },
  {
   "cell_type": "code",
   "execution_count": 65,
   "metadata": {},
   "outputs": [
    {
     "data": {
      "text/html": [
       "<div>\n",
       "<style scoped>\n",
       "    .dataframe tbody tr th:only-of-type {\n",
       "        vertical-align: middle;\n",
       "    }\n",
       "\n",
       "    .dataframe tbody tr th {\n",
       "        vertical-align: top;\n",
       "    }\n",
       "\n",
       "    .dataframe thead th {\n",
       "        text-align: right;\n",
       "    }\n",
       "</style>\n",
       "<table border=\"1\" class=\"dataframe\">\n",
       "  <thead>\n",
       "    <tr style=\"text-align: right;\">\n",
       "      <th></th>\n",
       "      <th>Speed(km/hr)</th>\n",
       "      <th>Fuel Consumption(ml/sec)</th>\n",
       "      <th>CO2 Emission(mg/sec)</th>\n",
       "    </tr>\n",
       "  </thead>\n",
       "  <tbody>\n",
       "    <tr>\n",
       "      <th>0</th>\n",
       "      <td>0.133588</td>\n",
       "      <td>0.075656</td>\n",
       "      <td>0.075851</td>\n",
       "    </tr>\n",
       "    <tr>\n",
       "      <th>1</th>\n",
       "      <td>0.652515</td>\n",
       "      <td>0.386767</td>\n",
       "      <td>0.386776</td>\n",
       "    </tr>\n",
       "    <tr>\n",
       "      <th>2</th>\n",
       "      <td>0.855868</td>\n",
       "      <td>0.900466</td>\n",
       "      <td>0.900072</td>\n",
       "    </tr>\n",
       "  </tbody>\n",
       "</table>\n",
       "</div>"
      ],
      "text/plain": [
       "      Speed(km/hr)  Fuel Consumption(ml/sec)  CO2 Emission(mg/sec)\n",
       "0         0.133588                  0.075656              0.075851\n",
       "1         0.652515                  0.386767              0.386776\n",
       "2         0.855868                  0.900466              0.900072"
      ]
     },
     "execution_count": 65,
     "metadata": {},
     "output_type": "execute_result"
    }
   ],
   "source": [
    "fcm_centers = fcm.centers\n",
    "fcm_centers"
   ]
  },
  {
   "cell_type": "code",
   "execution_count": 66,
   "metadata": {},
   "outputs": [
    {
     "data": {
      "image/png": "[encoded data removed]",
      "text/plain": [
       "<Figure size 432x288 with 1 Axes>"
      ]
     },
     "metadata": {
      "needs_background": "light"
     },
     "output_type": "display_data"
    }
   ],
   "source": [
    "dv1=dff1[dff1.cluster==0]\n",
    "dv2=dff1[dff1.cluster==1]\n",
    "dv3=dff1[dff1.cluster==2]\n",
    "\n",
    "ax2 =plt.axes(projection='3d')\n",
    "ax2.scatter3D(dv1.iloc[:,0],dv1.iloc[:,1],dv1.iloc[:,2],c='green')\n",
    "ax2.scatter3D(dv2.iloc[:,0],dv2.iloc[:,1],dv2.iloc[:,2],c='purple')\n",
    "ax2.scatter3D(dv3.iloc[:,0],dv3.iloc[:,1],dv3.iloc[:,2],c='black')\n",
    "ax2.scatter3D(fcm_centers.iloc[:,0],fcm_centers.iloc[:,1],fcm_centers.iloc[:,2],c='red',marker=\"*\")\n",
    "ax2.set_xlabel(\"x axis\")\n",
    "ax2.set_ylabel(\"y axis\")\n",
    "ax2.set_zlabel(\"z axis\")\n",
    "\n",
    "\n",
    "\n",
    "plt.show()\n"
   ]
  },
  {
   "cell_type": "code",
   "execution_count": 67,
   "metadata": {},
   "outputs": [
    {
     "data": {
      "text/plain": [
       "[0.05494550228118897,\n",
       " 0.03441559791564942,\n",
       " 0.0471639347076416,\n",
       " 0.12008299350738526]"
      ]
     },
     "execution_count": 67,
     "metadata": {},
     "output_type": "execute_result"
    }
   ],
   "source": [
    "# average computing time of fuzzy c-means algorithm for cluster 2,3,4,5 for 50 iterations\n",
    "\n",
    "data2=df.drop(columns=['cluster'])\n",
    "avg1=[]\n",
    "for pos in range(2,6):\n",
    "    start_time = time.time()\n",
    "    for i in range(0,50):\n",
    "        fcmn = FCM(n_clusters=pos)\n",
    "        fcmn.fit(data2)\n",
    "        fcmn.predict(data2)\n",
    "    end_time = time.time()\n",
    "    avg1.append((end_time-start_time)/50)\n",
    "\n",
    "avg1"
   ]
  },
  {
   "cell_type": "code",
   "execution_count": 68,
   "metadata": {},
   "outputs": [
    {
     "name": "stdout",
     "output_type": "stream",
     "text": [
      "0.27562186674842126\n",
      "0.2755082320974051\n"
     ]
    },
    {
     "data": {
      "image/png": "[encoded data removed]",
      "text/plain": [
       "<Figure size 432x288 with 1 Axes>"
      ]
     },
     "metadata": {
      "needs_background": "light"
     },
     "output_type": "display_data"
    },
    {
     "name": "stdout",
     "output_type": "stream",
     "text": [
      "0.27562186674842126\n",
      "0.0004395566860893733\n"
     ]
    },
    {
     "data": {
      "image/png": "[encoded data removed]",
      "text/plain": [
       "<Figure size 432x288 with 1 Axes>"
      ]
     },
     "metadata": {
      "needs_background": "light"
     },
     "output_type": "display_data"
    },
    {
     "name": "stdout",
     "output_type": "stream",
     "text": [
      "0.2755082320974051\n",
      "0.0004395566860893733\n"
     ]
    },
    {
     "data": {
      "image/png": "[encoded data removed]",
      "text/plain": [
       "<Figure size 432x288 with 1 Axes>"
      ]
     },
     "metadata": {
      "needs_background": "light"
     },
     "output_type": "display_data"
    }
   ],
   "source": [
    "fcm1=fcm.centers\n",
    "\n",
    "# distance of cluster 1 from cluster 2 \n",
    "eud1=math.sqrt((fcm1.iloc[0,0]-fcm1.iloc[0,1])**2+(fcm1.iloc[1,0]-fcm1.iloc[1,1])**2+(fcm1.iloc[2,0]-fcm1.iloc[2,1])**2)\n",
    "print(eud1)\n",
    "\n",
    "# distance of cluster 1 from cluster 3 \n",
    "eud2=math.sqrt(((fcm1.iloc[0,0]-fcm1.iloc[0,2])**2)+((fcm1.iloc[1,0]-fcm1.iloc[1,2])**2)+((fcm1.iloc[2,0]-fcm1.iloc[2,2])**2))\n",
    "print(eud2)\n",
    "\n",
    "fig = plt.figure()\n",
    "ax = fig.add_axes([0,0,1,1])\n",
    "cluster1 = ['1', '2', '3']\n",
    "dist1 = [0,eud1,eud2]\n",
    "ax.bar(cluster1,dist1)\n",
    "ax.set_xlabel(\"Distance of cluster 1,2,3 from cluster 1\")\n",
    "plt.show()  \n",
    "\n",
    "# distance of cluster 2 from cluster 1 \n",
    "eud3=math.sqrt(((fcm1.iloc[0,1]-fcm1.iloc[0,0])**2)+((fcm1.iloc[1,1]-fcm1.iloc[1,0])**2)+((fcm1.iloc[2,1]-fcm1.iloc[2,0])**2))\n",
    "print(eud3)\n",
    "\n",
    "# distance of cluster 2 from cluster 3 \n",
    "eud4=math.sqrt(((fcm1.iloc[0,1]-fcm1.iloc[0,2])**2)+((fcm1.iloc[1,1]-fcm1.iloc[1,2])**2)+((fcm1.iloc[2,1]-fcm1.iloc[2,2])**2))\n",
    "print(eud4)\n",
    "\n",
    "fig = plt.figure()\n",
    "ax = fig.add_axes([0,0,1,1])\n",
    "cluster2 = ['1', '2', '3']\n",
    "dist2 = [eud3,0,eud4]\n",
    "ax.bar(cluster2,dist2)\n",
    "ax.set_xlabel(\"Distance of cluster 1,2,3 from cluster 2\")\n",
    "plt.show() \n",
    "\n",
    "# distance of cluster 3 from cluster 1 \n",
    "eud5=math.sqrt(((fcm1.iloc[0,2]-fcm1.iloc[0,0])**2)+((fcm1.iloc[1,2]-fcm1.iloc[1,0])**2)+((fcm1.iloc[2,2]-fcm1.iloc[2,0])**2))\n",
    "print(eud5)\n",
    "\n",
    "# distance of cluster 3 from cluster 2\n",
    "eud6=math.sqrt(((fcm1.iloc[0,2]-fcm1.iloc[0,1])**2)+((fcm1.iloc[1,2]-fcm1.iloc[1,1])**2)+((fcm1.iloc[2,2]-fcm1.iloc[2,1])**2))\n",
    "print(eud6)\n",
    "\n",
    "fig = plt.figure()\n",
    "ax = fig.add_axes([0,0,1,1])\n",
    "cluster3 = ['1', '2', '3']\n",
    "dist3 = [eud5,eud6,0]\n",
    "ax.bar(cluster3,dist3)\n",
    "ax.set_xlabel(\"Distance of cluster 1,2,3 from cluster 3\")\n",
    "plt.show()"
   ]
  },
  {
   "cell_type": "code",
   "execution_count": 69,
   "metadata": {},
   "outputs": [
    {
     "data": {
      "text/html": [
       "<div>\n",
       "<style scoped>\n",
       "    .dataframe tbody tr th:only-of-type {\n",
       "        vertical-align: middle;\n",
       "    }\n",
       "\n",
       "    .dataframe tbody tr th {\n",
       "        vertical-align: top;\n",
       "    }\n",
       "\n",
       "    .dataframe thead th {\n",
       "        text-align: right;\n",
       "    }\n",
       "</style>\n",
       "<table border=\"1\" class=\"dataframe\">\n",
       "  <thead>\n",
       "    <tr style=\"text-align: right;\">\n",
       "      <th></th>\n",
       "      <th>Speed(km/hr)</th>\n",
       "      <th>Fuel Consumption(ml/sec)</th>\n",
       "      <th>CO2 Emission(mg/sec)</th>\n",
       "    </tr>\n",
       "  </thead>\n",
       "  <tbody>\n",
       "    <tr>\n",
       "      <th>0</th>\n",
       "      <td>0.000000</td>\n",
       "      <td>0.000000</td>\n",
       "      <td>0.000000</td>\n",
       "    </tr>\n",
       "    <tr>\n",
       "      <th>1</th>\n",
       "      <td>0.061505</td>\n",
       "      <td>0.036254</td>\n",
       "      <td>0.036088</td>\n",
       "    </tr>\n",
       "    <tr>\n",
       "      <th>2</th>\n",
       "      <td>0.091896</td>\n",
       "      <td>0.007553</td>\n",
       "      <td>0.007708</td>\n",
       "    </tr>\n",
       "    <tr>\n",
       "      <th>3</th>\n",
       "      <td>0.112880</td>\n",
       "      <td>0.066465</td>\n",
       "      <td>0.066914</td>\n",
       "    </tr>\n",
       "    <tr>\n",
       "      <th>4</th>\n",
       "      <td>0.103473</td>\n",
       "      <td>0.054381</td>\n",
       "      <td>0.054244</td>\n",
       "    </tr>\n",
       "    <tr>\n",
       "      <th>5</th>\n",
       "      <td>0.336469</td>\n",
       "      <td>0.373112</td>\n",
       "      <td>0.373624</td>\n",
       "    </tr>\n",
       "    <tr>\n",
       "      <th>6</th>\n",
       "      <td>0.377352</td>\n",
       "      <td>0.282477</td>\n",
       "      <td>0.282850</td>\n",
       "    </tr>\n",
       "    <tr>\n",
       "      <th>7</th>\n",
       "      <td>0.418234</td>\n",
       "      <td>0.412387</td>\n",
       "      <td>0.411827</td>\n",
       "    </tr>\n",
       "    <tr>\n",
       "      <th>8</th>\n",
       "      <td>0.565847</td>\n",
       "      <td>0.379154</td>\n",
       "      <td>0.379623</td>\n",
       "    </tr>\n",
       "    <tr>\n",
       "      <th>9</th>\n",
       "      <td>0.596237</td>\n",
       "      <td>0.413897</td>\n",
       "      <td>0.413789</td>\n",
       "    </tr>\n",
       "    <tr>\n",
       "      <th>10</th>\n",
       "      <td>0.621925</td>\n",
       "      <td>0.643505</td>\n",
       "      <td>0.643140</td>\n",
       "    </tr>\n",
       "  </tbody>\n",
       "</table>\n",
       "</div>"
      ],
      "text/plain": [
       "       Speed(km/hr)  Fuel Consumption(ml/sec)  CO2 Emission(mg/sec)\n",
       "0          0.000000                  0.000000              0.000000\n",
       "1          0.061505                  0.036254              0.036088\n",
       "2          0.091896                  0.007553              0.007708\n",
       "3          0.112880                  0.066465              0.066914\n",
       "4          0.103473                  0.054381              0.054244\n",
       "5          0.336469                  0.373112              0.373624\n",
       "6          0.377352                  0.282477              0.282850\n",
       "7          0.418234                  0.412387              0.411827\n",
       "8          0.565847                  0.379154              0.379623\n",
       "9          0.596237                  0.413897              0.413789\n",
       "10         0.621925                  0.643505              0.643140"
      ]
     },
     "execution_count": 69,
     "metadata": {},
     "output_type": "execute_result"
    }
   ],
   "source": [
    "# mini-batch k-means clustering\n",
    "\n",
    "dff2=df.drop(columns=['cluster'])\n",
    "dff2.head(11)"
   ]
  },
  {
   "cell_type": "code",
   "execution_count": 70,
   "metadata": {},
   "outputs": [
    {
     "data": {
      "text/plain": [
       "MiniBatchKMeans(n_clusters=3)"
      ]
     },
     "execution_count": 70,
     "metadata": {},
     "output_type": "execute_result"
    }
   ],
   "source": [
    "minb = MiniBatchKMeans(n_clusters=3)\n",
    "minb.fit(dff2)\n"
   ]
  },
  {
   "cell_type": "code",
   "execution_count": 71,
   "metadata": {},
   "outputs": [
    {
     "data": {
      "text/plain": [
       "array([0, 0, 0, 0, 0, 2, 2, 2, 2, 2, 1, 2, 1, 1, 1, 2, 1, 1, 2, 0, 0, 2])"
      ]
     },
     "execution_count": 71,
     "metadata": {},
     "output_type": "execute_result"
    }
   ],
   "source": [
    "y2_predict=minb.predict(dff2)\n",
    "y2_predict"
   ]
  },
  {
   "cell_type": "code",
   "execution_count": 72,
   "metadata": {},
   "outputs": [
    {
     "data": {
      "text/html": [
       "<div>\n",
       "<style scoped>\n",
       "    .dataframe tbody tr th:only-of-type {\n",
       "        vertical-align: middle;\n",
       "    }\n",
       "\n",
       "    .dataframe tbody tr th {\n",
       "        vertical-align: top;\n",
       "    }\n",
       "\n",
       "    .dataframe thead th {\n",
       "        text-align: right;\n",
       "    }\n",
       "</style>\n",
       "<table border=\"1\" class=\"dataframe\">\n",
       "  <thead>\n",
       "    <tr style=\"text-align: right;\">\n",
       "      <th></th>\n",
       "      <th>Speed(km/hr)</th>\n",
       "      <th>Fuel Consumption(ml/sec)</th>\n",
       "      <th>CO2 Emission(mg/sec)</th>\n",
       "      <th>cluster</th>\n",
       "    </tr>\n",
       "  </thead>\n",
       "  <tbody>\n",
       "    <tr>\n",
       "      <th>0</th>\n",
       "      <td>0.000000</td>\n",
       "      <td>0.000000</td>\n",
       "      <td>0.000000</td>\n",
       "      <td>0</td>\n",
       "    </tr>\n",
       "    <tr>\n",
       "      <th>1</th>\n",
       "      <td>0.061505</td>\n",
       "      <td>0.036254</td>\n",
       "      <td>0.036088</td>\n",
       "      <td>0</td>\n",
       "    </tr>\n",
       "    <tr>\n",
       "      <th>2</th>\n",
       "      <td>0.091896</td>\n",
       "      <td>0.007553</td>\n",
       "      <td>0.007708</td>\n",
       "      <td>0</td>\n",
       "    </tr>\n",
       "    <tr>\n",
       "      <th>3</th>\n",
       "      <td>0.112880</td>\n",
       "      <td>0.066465</td>\n",
       "      <td>0.066914</td>\n",
       "      <td>0</td>\n",
       "    </tr>\n",
       "    <tr>\n",
       "      <th>4</th>\n",
       "      <td>0.103473</td>\n",
       "      <td>0.054381</td>\n",
       "      <td>0.054244</td>\n",
       "      <td>0</td>\n",
       "    </tr>\n",
       "    <tr>\n",
       "      <th>5</th>\n",
       "      <td>0.336469</td>\n",
       "      <td>0.373112</td>\n",
       "      <td>0.373624</td>\n",
       "      <td>2</td>\n",
       "    </tr>\n",
       "    <tr>\n",
       "      <th>6</th>\n",
       "      <td>0.377352</td>\n",
       "      <td>0.282477</td>\n",
       "      <td>0.282850</td>\n",
       "      <td>2</td>\n",
       "    </tr>\n",
       "    <tr>\n",
       "      <th>7</th>\n",
       "      <td>0.418234</td>\n",
       "      <td>0.412387</td>\n",
       "      <td>0.411827</td>\n",
       "      <td>2</td>\n",
       "    </tr>\n",
       "    <tr>\n",
       "      <th>8</th>\n",
       "      <td>0.565847</td>\n",
       "      <td>0.379154</td>\n",
       "      <td>0.379623</td>\n",
       "      <td>2</td>\n",
       "    </tr>\n",
       "    <tr>\n",
       "      <th>9</th>\n",
       "      <td>0.596237</td>\n",
       "      <td>0.413897</td>\n",
       "      <td>0.413789</td>\n",
       "      <td>2</td>\n",
       "    </tr>\n",
       "    <tr>\n",
       "      <th>10</th>\n",
       "      <td>0.621925</td>\n",
       "      <td>0.643505</td>\n",
       "      <td>0.643140</td>\n",
       "      <td>1</td>\n",
       "    </tr>\n",
       "  </tbody>\n",
       "</table>\n",
       "</div>"
      ],
      "text/plain": [
       "       Speed(km/hr)  Fuel Consumption(ml/sec)  CO2 Emission(mg/sec)  cluster\n",
       "0          0.000000                  0.000000              0.000000        0\n",
       "1          0.061505                  0.036254              0.036088        0\n",
       "2          0.091896                  0.007553              0.007708        0\n",
       "3          0.112880                  0.066465              0.066914        0\n",
       "4          0.103473                  0.054381              0.054244        0\n",
       "5          0.336469                  0.373112              0.373624        2\n",
       "6          0.377352                  0.282477              0.282850        2\n",
       "7          0.418234                  0.412387              0.411827        2\n",
       "8          0.565847                  0.379154              0.379623        2\n",
       "9          0.596237                  0.413897              0.413789        2\n",
       "10         0.621925                  0.643505              0.643140        1"
      ]
     },
     "execution_count": 72,
     "metadata": {},
     "output_type": "execute_result"
    }
   ],
   "source": [
    "dff2['cluster']=y2_predict\n",
    "dff2.head(11)"
   ]
  },
  {
   "cell_type": "code",
   "execution_count": 73,
   "metadata": {},
   "outputs": [
    {
     "data": {
      "text/plain": [
       "array([[0.11470273, 0.06186224, 0.06205586],\n",
       "       [0.82501392, 0.85415292, 0.85372504],\n",
       "       [0.65468611, 0.34398541, 0.34406032]])"
      ]
     },
     "execution_count": 73,
     "metadata": {},
     "output_type": "execute_result"
    }
   ],
   "source": [
    "minb.cluster_centers_"
   ]
  },
  {
   "cell_type": "code",
   "execution_count": 74,
   "metadata": {},
   "outputs": [
    {
     "data": {
      "image/png": "[encoded data removed]",
      "text/plain": [
       "<Figure size 432x288 with 1 Axes>"
      ]
     },
     "metadata": {
      "needs_background": "light"
     },
     "output_type": "display_data"
    }
   ],
   "source": [
    "db1=dff2[dff2.cluster==0]\n",
    "db2=dff2[dff2.cluster==1]\n",
    "db3=dff2[dff2.cluster==2]\n",
    "\n",
    "ax3 =plt.axes(projection='3d')\n",
    "ax3.scatter3D(db1.iloc[:,0],db1.iloc[:,1],db1.iloc[:,2],c='green')\n",
    "ax3.scatter3D(db2.iloc[:,0],db2.iloc[:,1],db2.iloc[:,2],c='purple')\n",
    "ax3.scatter3D(db3.iloc[:,0],db3.iloc[:,1],db3.iloc[:,2],c='black')\n",
    "ax3.scatter3D(minb.cluster_centers_[:,0],minb.cluster_centers_[:,1],minb.cluster_centers_[:,2],c='red',label='centroid',marker=\"*\")\n",
    "ax3.set_xlabel(\"x axis\")\n",
    "ax3.set_ylabel(\"y axis\")\n",
    "ax3.set_zlabel(\"z axis\")\n",
    "\n",
    "\n",
    "plt.show()"
   ]
  },
  {
   "cell_type": "code",
   "execution_count": 75,
   "metadata": {},
   "outputs": [
    {
     "data": {
      "text/plain": [
       "[0.0521345043182373,\n",
       " 0.05113152503967285,\n",
       " 0.05001185894012451,\n",
       " 0.049977869987487794]"
      ]
     },
     "execution_count": 75,
     "metadata": {},
     "output_type": "execute_result"
    }
   ],
   "source": [
    "# average computing time of Mini batch k-means algorithm for cluster 2,3,4,5 for 50 iterations\n",
    "data3=df.drop(columns=['cluster'])\n",
    "avg2=[]\n",
    "for pos in range(2,6):\n",
    "    start_time = time.time()\n",
    "    for i in range(0,50):\n",
    "        minb1 = MiniBatchKMeans(n_clusters=3)\n",
    "        minb1.fit(data3)\n",
    "        minb1.predict(data3)\n",
    "    end_time = time.time()\n",
    "    avg2.append((end_time-start_time)/50)\n",
    "\n",
    "avg2"
   ]
  },
  {
   "cell_type": "code",
   "execution_count": 76,
   "metadata": {},
   "outputs": [
    {
     "name": "stdout",
     "output_type": "stream",
     "text": [
      "0.31650611887275715\n",
      "0.3163611907893274\n"
     ]
    },
    {
     "data": {
      "image/png": "[encoded data removed]",
      "text/plain": [
       "<Figure size 432x288 with 1 Axes>"
      ]
     },
     "metadata": {
      "needs_background": "light"
     },
     "output_type": "display_data"
    },
    {
     "name": "stdout",
     "output_type": "stream",
     "text": [
      "0.31650611887275715\n",
      "0.00047558606022226506\n"
     ]
    },
    {
     "data": {
      "image/png": "[encoded data removed]",
      "text/plain": [
       "<Figure size 432x288 with 1 Axes>"
      ]
     },
     "metadata": {
      "needs_background": "light"
     },
     "output_type": "display_data"
    },
    {
     "name": "stdout",
     "output_type": "stream",
     "text": [
      "0.3163611907893274\n",
      "0.00047558606022226506\n"
     ]
    },
    {
     "data": {
      "image/png": "[encoded data removed]",
      "text/plain": [
       "<Figure size 432x288 with 1 Axes>"
      ]
     },
     "metadata": {
      "needs_background": "light"
     },
     "output_type": "display_data"
    }
   ],
   "source": [
    "mnk=minb.cluster_centers_\n",
    "\n",
    "# distance of cluster 1 from cluster 2 \n",
    "ek1=math.sqrt((mnk[0,0]-mnk[0,1])**2+(mnk[1,0]-mnk[1,1])**2+(mnk[2,0]-mnk[2,1])**2)\n",
    "print(ek1)\n",
    "\n",
    "# distance of cluster 1 from cluster 3 \n",
    "ek2=math.sqrt(((mnk[0,0]-mnk[0,2])**2)+((mnk[1,0]-mnk[1,2])**2)+((mnk[2,0]-mnk[2,2])**2))\n",
    "print(ek2)\n",
    "\n",
    "\n",
    "fig = plt.figure()\n",
    "ax = fig.add_axes([0,0,1,1])\n",
    "cluster1 = ['1', '2', '3']\n",
    "dist1 = [0,ek1,ek2]\n",
    "ax.bar(cluster1,dist1)\n",
    "ax.set_xlabel(\"Distance of cluster 1,2,3 from cluster 1\")\n",
    "plt.show()\n",
    "\n",
    "# distance of cluster 2 from cluster 1 \n",
    "ek3=math.sqrt(((mnk[0,1]-mnk[0,0])**2)+((mnk[1,1]-mnk[1,0])**2)+((mnk[2,1]-mnk[2,0])**2))\n",
    "print(ek3)\n",
    "\n",
    "# distance of cluster 2 from cluster 3 \n",
    "ek4=math.sqrt(((mnk[0,1]-mnk[0,2])**2)+((mnk[1,1]-mnk[1,2])**2)+((mnk[2,1]-mnk[2,2])**2))\n",
    "print(ek4)\n",
    "\n",
    "fig = plt.figure()\n",
    "ax = fig.add_axes([0,0,1,1])\n",
    "cluster2 = ['1', '2', '3']\n",
    "dist2 = [ek3,0,ek4]\n",
    "ax.bar(cluster2,dist2)\n",
    "ax.set_xlabel(\"Distance of cluster 1,2,3 from cluster 2\")\n",
    "plt.show()\n",
    "\n",
    "\n",
    "# distance of cluster 3 from cluster 1 \n",
    "ek5=math.sqrt(((mnk[0,2]-mnk[0,0])**2)+((mnk[1,2]-mnk[1,0])**2)+((mnk[2,2]-mnk[2,0])**2))\n",
    "print(ek5)\n",
    "\n",
    "# distance of cluster 3 from cluster 2\n",
    "ek6=math.sqrt(((mnk[0,2]-mnk[0,1])**2)+((mnk[1,2]-mnk[1,1])**2)+((mnk[2,2]-mnk[2,1])**2))\n",
    "print(ek6)\n",
    "\n",
    "\n",
    "fig = plt.figure()\n",
    "ax = fig.add_axes([0,0,1,1])\n",
    "cluster3 = ['1', '2', '3']\n",
    "dist3 = [ek5,ek6,0]\n",
    "ax.bar(cluster3,dist3)\n",
    "ax.set_xlabel(\"Distance of cluster 1,2,3 from cluster 3\")\n",
    "plt.show()\n"
   ]
  },
  {
   "cell_type": "code",
   "execution_count": 77,
   "metadata": {},
   "outputs": [
    {
     "data": {
      "image/png": "[encoded data removed]",
      "text/plain": [
       "<Figure size 720x360 with 1 Axes>"
      ]
     },
     "metadata": {
      "needs_background": "light"
     },
     "output_type": "display_data"
    }
   ],
   "source": [
    "barWidth = 0.25\n",
    "fig = plt.figure(figsize = (10, 5))\n",
    "\n",
    "# Set position of bar on X axis\n",
    "br1 = np.arange(len(avg))\n",
    "br2 = [x + barWidth for x in br1]\n",
    "br3 = [x + barWidth for x in br2]\n",
    "# Make the plot\n",
    "plt.bar(br1, avg, color ='black', width = barWidth,\n",
    "        edgecolor ='grey', label ='KMeans')\n",
    "plt.bar(br2, avg1, color ='red', width = barWidth,\n",
    "        edgecolor ='grey', label ='FCM')\n",
    "plt.bar(br3, avg2, color ='green', width = barWidth,\n",
    "        edgecolor ='grey', label ='Mini batch Kmeans')\n",
    "\n",
    "# Adding Xticks\n",
    "plt.xlabel('Number of cluster', fontweight ='bold', fontsize = 15)\n",
    "plt.ylabel('Average computing time', fontweight ='bold', fontsize = 15)\n",
    "plt.xticks([r + barWidth for r in range(len(avg))],\n",
    "        ['2', '3', '4', '5'])\n",
    "\n",
    "plt.legend()\n",
    "plt.show()"
   ]
  },
  {
   "cell_type": "code",
   "execution_count": null,
   "metadata": {},
   "outputs": [],
   "source": []
  }
 ],
 "metadata": {
  "kernelspec": {
   "display_name": "Python 3",
   "language": "python",
   "name": "python3"
  },
  "language_info": {
   "codemirror_mode": {
    "name": "ipython",
    "version": 3
   },
   "file_extension": ".py",
   "mimetype": "text/x-python",
   "name": "python",
   "nbconvert_exporter": "python",
   "pygments_lexer": "ipython3",
   "version": "3.8.3"
  }
 },
 "nbformat": 4,
 "nbformat_minor": 4
}
